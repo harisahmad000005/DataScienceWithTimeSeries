{
 "cells": [
  {
   "cell_type": "code",
   "execution_count": 2,
   "metadata": {},
   "outputs": [
    {
     "name": "stdout",
     "output_type": "stream",
     "text": [
      "[[1 2 3]\n",
      " [4 5 6]\n",
      " [7 8 9]]\n",
      "\n",
      " [[ 3.15251974e+15 -6.30503948e+15  3.15251974e+15]\n",
      " [-6.30503948e+15  1.26100790e+16 -6.30503948e+15]\n",
      " [ 3.15251974e+15 -6.30503948e+15  3.15251974e+15]]\n"
     ]
    }
   ],
   "source": [
    "import numpy as np\n",
    "\n",
    "import scipy.linalg\n",
    "x = np.array([[1,2,3],[4,5,6],[7,8,9]])\n",
    "print(x)\n",
    "print('\\n' , scipy.linalg.inv(x))"
   ]
  },
  {
   "cell_type": "code",
   "execution_count": 9,
   "metadata": {},
   "outputs": [
    {
     "name": "stdout",
     "output_type": "stream",
     "text": [
      "[2. 1. 3.]\n"
     ]
    }
   ],
   "source": [
    "# ax = b\n",
    "a = np.array([[2,1, -3], [4,-2,1], [3,5,-2]])\n",
    "\n",
    "b = np. array([-4,9,5])\n",
    "\n",
    "print(scipy.linalg.solve(a,b))"
   ]
  },
  {
   "cell_type": "code",
   "execution_count": 13,
   "metadata": {},
   "outputs": [
    {
     "name": "stdout",
     "output_type": "stream",
     "text": [
      "3.000000000000001\n"
     ]
    }
   ],
   "source": [
    "\n",
    "\n",
    "a = np.array([[0,2,3],[4,5,6],[7,8,9]])\n",
    "\n",
    "\n",
    "print(scipy.linalg.det(a))"
   ]
  },
  {
   "cell_type": "code",
   "execution_count": 14,
   "metadata": {},
   "outputs": [
    {
     "name": "stdout",
     "output_type": "stream",
     "text": [
      "16.852299546352718\n"
     ]
    }
   ],
   "source": [
    "\n",
    "\n",
    "print(scipy.linalg.norm(a))"
   ]
  },
  {
   "cell_type": "code",
   "execution_count": 15,
   "metadata": {},
   "outputs": [
    {
     "name": "stdout",
     "output_type": "stream",
     "text": [
      "[[ 0  1  2  3  4  5]\n",
      " [ 6  7  8  9 10 11]\n",
      " [12 13 14 15 16 17]\n",
      " [18 19 20 21 22 23]\n",
      " [24 25 26 27 28 29]\n",
      " [30 31 32 33 34 35]]\n"
     ]
    }
   ],
   "source": [
    "a = np.arange(36).reshape((6,6))\n",
    "print(a)"
   ]
  },
  {
   "cell_type": "code",
   "execution_count": 17,
   "metadata": {},
   "outputs": [
    {
     "name": "stdout",
     "output_type": "stream",
     "text": [
      "[[ 0  0  0  0  0  0]\n",
      " [ 6  7  0  0  0  0]\n",
      " [12 13 14  0  0  0]\n",
      " [18 19 20 21  0  0]\n",
      " [24 25 26 27 28  0]\n",
      " [30 31 32 33 34 35]]\n"
     ]
    }
   ],
   "source": [
    "\n",
    "\n",
    "print(scipy.linalg.tril(a, k=0))"
   ]
  },
  {
   "cell_type": "code",
   "execution_count": 18,
   "metadata": {},
   "outputs": [
    {
     "name": "stdout",
     "output_type": "stream",
     "text": [
      "[[ 0  1  0  0  0  0]\n",
      " [ 6  7  8  0  0  0]\n",
      " [12 13 14 15  0  0]\n",
      " [18 19 20 21 22  0]\n",
      " [24 25 26 27 28 29]\n",
      " [30 31 32 33 34 35]]\n"
     ]
    }
   ],
   "source": [
    "print(scipy.linalg.tril(a, k=1))"
   ]
  },
  {
   "cell_type": "code",
   "execution_count": 19,
   "metadata": {},
   "outputs": [
    {
     "name": "stdout",
     "output_type": "stream",
     "text": [
      "[[ 0  0  0  0  0  0]\n",
      " [ 6  0  0  0  0  0]\n",
      " [12 13  0  0  0  0]\n",
      " [18 19 20  0  0  0]\n",
      " [24 25 26 27  0  0]\n",
      " [30 31 32 33 34  0]]\n"
     ]
    }
   ],
   "source": [
    "print(scipy.linalg.tril(a, k=-1))"
   ]
  },
  {
   "cell_type": "code",
   "execution_count": 20,
   "metadata": {},
   "outputs": [
    {
     "name": "stdout",
     "output_type": "stream",
     "text": [
      "[[ 0  1  2  3  4  5]\n",
      " [ 0  7  8  9 10 11]\n",
      " [ 0  0 14 15 16 17]\n",
      " [ 0  0  0 21 22 23]\n",
      " [ 0  0  0  0 28 29]\n",
      " [ 0  0  0  0  0 35]]\n"
     ]
    }
   ],
   "source": [
    "print(scipy.linalg.triu(a, k=0))"
   ]
  },
  {
   "cell_type": "code",
   "execution_count": 23,
   "metadata": {},
   "outputs": [
    {
     "name": "stdout",
     "output_type": "stream",
     "text": [
      "[[ 0  1  2  3  4  5]\n",
      " [ 0  0  8  9 10 11]\n",
      " [ 0  0  0 15 16 17]\n",
      " [ 0  0  0  0 22 23]\n",
      " [ 0  0  0  0  0 29]\n",
      " [ 0  0  0  0  0  0]]\n"
     ]
    }
   ],
   "source": [
    "print(scipy.linalg.triu(a, k=1))"
   ]
  },
  {
   "cell_type": "code",
   "execution_count": 24,
   "metadata": {},
   "outputs": [
    {
     "name": "stdout",
     "output_type": "stream",
     "text": [
      "[[ 0  1  2  3  4  5]\n",
      " [ 6  7  8  9 10 11]\n",
      " [ 0 13 14 15 16 17]\n",
      " [ 0  0 20 21 22 23]\n",
      " [ 0  0  0 27 28 29]\n",
      " [ 0  0  0  0 34 35]]\n"
     ]
    }
   ],
   "source": [
    "print(scipy.linalg.triu(a, k=-1))"
   ]
  },
  {
   "cell_type": "code",
   "execution_count": 25,
   "metadata": {},
   "outputs": [
    {
     "name": "stdout",
     "output_type": "stream",
     "text": [
      "[[ 0  1  2  3  4  5  6]\n",
      " [ 7  8  9 10 11 12 13]\n",
      " [14 15 16 17 18 19 20]\n",
      " [21 22 23 24 25 26 27]\n",
      " [28 29 30 31 32 33 34]\n",
      " [35 36 37 38 39 40 41]\n",
      " [42 43 44 45 46 47 48]]\n"
     ]
    }
   ],
   "source": [
    "a = np.arange(49).reshape((7,7))\n",
    "print(a)"
   ]
  },
  {
   "cell_type": "code",
   "execution_count": 27,
   "metadata": {},
   "outputs": [
    {
     "name": "stdout",
     "output_type": "stream",
     "text": [
      "[[0. 1. 0. 0. 0. 0. 0.]\n",
      " [0. 0. 0. 1. 0. 0. 0.]\n",
      " [0. 0. 0. 0. 0. 1. 0.]\n",
      " [0. 0. 0. 0. 0. 0. 1.]\n",
      " [0. 0. 0. 0. 1. 0. 0.]\n",
      " [0. 0. 1. 0. 0. 0. 0.]\n",
      " [1. 0. 0. 0. 0. 0. 0.]]\n",
      "[[ 1.00000000e+00  0.00000000e+00  0.00000000e+00  0.00000000e+00\n",
      "   0.00000000e+00  0.00000000e+00  0.00000000e+00]\n",
      " [ 0.00000000e+00  1.00000000e+00  0.00000000e+00  0.00000000e+00\n",
      "   0.00000000e+00  0.00000000e+00  0.00000000e+00]\n",
      " [ 8.33333333e-01  1.66666667e-01  1.00000000e+00  0.00000000e+00\n",
      "   0.00000000e+00  0.00000000e+00  0.00000000e+00]\n",
      " [ 1.66666667e-01  8.33333333e-01  1.42857143e-01  1.00000000e+00\n",
      "   0.00000000e+00  0.00000000e+00  0.00000000e+00]\n",
      " [ 6.66666667e-01  3.33333333e-01  5.00000000e-01  5.00000000e-01\n",
      "   1.00000000e+00  0.00000000e+00  0.00000000e+00]\n",
      " [ 3.33333333e-01  6.66666667e-01  2.14285714e-01 -3.33066907e-16\n",
      "   1.00000000e+00  1.00000000e+00  0.00000000e+00]\n",
      " [ 5.00000000e-01  5.00000000e-01 -0.00000000e+00  0.00000000e+00\n",
      "  -0.00000000e+00  0.00000000e+00  1.00000000e+00]]\n",
      "[[ 4.20000000e+01  4.30000000e+01  4.40000000e+01  4.50000000e+01\n",
      "   4.60000000e+01  4.70000000e+01  4.80000000e+01]\n",
      " [ 0.00000000e+00  1.00000000e+00  2.00000000e+00  3.00000000e+00\n",
      "   4.00000000e+00  5.00000000e+00  6.00000000e+00]\n",
      " [ 0.00000000e+00  0.00000000e+00 -3.10862447e-15 -6.21724894e-15\n",
      "  -9.32587341e-15 -1.24344979e-14 -1.55431223e-14]\n",
      " [ 0.00000000e+00  0.00000000e+00  0.00000000e+00  2.22044605e-16\n",
      "   4.44089210e-16  2.22044605e-16 -1.23259516e-31]\n",
      " [ 0.00000000e+00  0.00000000e+00  0.00000000e+00  0.00000000e+00\n",
      "  -2.22044605e-16 -2.22044605e-16  6.16297582e-32]\n",
      " [ 0.00000000e+00  0.00000000e+00  0.00000000e+00  0.00000000e+00\n",
      "   0.00000000e+00  2.22044605e-16 -2.22044605e-16]\n",
      " [ 0.00000000e+00  0.00000000e+00  0.00000000e+00  0.00000000e+00\n",
      "   0.00000000e+00  0.00000000e+00  0.00000000e+00]]\n"
     ]
    }
   ],
   "source": [
    "p,l,u = scipy.linalg.lu(a)\n",
    "#Per mutation matrix\n",
    "\n",
    "print(p)\n",
    "\n",
    "print(l)\n",
    "\n",
    "print(u)\n"
   ]
  },
  {
   "cell_type": "code",
   "execution_count": 29,
   "metadata": {},
   "outputs": [
    {
     "name": "stdout",
     "output_type": "stream",
     "text": [
      "[[ 0.          0.91287093  0.40824829]\n",
      " [-0.4472136   0.36514837 -0.81649658]\n",
      " [-0.89442719 -0.18257419  0.40824829]]\n",
      "[[-6.70820393e+00 -8.04984472e+00 -9.39148551e+00]\n",
      " [ 0.00000000e+00  1.09544512e+00  2.19089023e+00]\n",
      " [ 0.00000000e+00  0.00000000e+00 -3.65307819e-16]]\n"
     ]
    }
   ],
   "source": [
    "a  = np .arange(9).reshape((3,3))\n",
    "q,r = scipy.linalg.qr(a)\n",
    "\n",
    "print(q)\n",
    "\n",
    "print(r)"
   ]
  },
  {
   "cell_type": "code",
   "execution_count": 30,
   "metadata": {},
   "outputs": [
    {
     "name": "stdout",
     "output_type": "stream",
     "text": [
      "[[-1.21153320e-16  1.20402011e+00 -1.88423342e+00]\n",
      " [ 0.00000000e+00  6.02010056e-01 -7.04539452e+00]\n",
      " [ 0.00000000e+00  0.00000000e+00 -1.22065556e+01]]\n",
      "[[ 0.40824829 -0.81649658  0.40824829]\n",
      " [-0.76923507 -0.06689001  0.63545506]\n",
      " [-0.49153915 -0.57346234 -0.65538554]]\n"
     ]
    }
   ],
   "source": [
    "\n",
    "q,r = scipy.linalg.rq(a)\n",
    "\n",
    "print(q)\n",
    "\n",
    "print(r)"
   ]
  },
  {
   "cell_type": "code",
   "execution_count": null,
   "metadata": {},
   "outputs": [],
   "source": []
  }
 ],
 "metadata": {
  "kernelspec": {
   "display_name": "Python 3",
   "language": "python",
   "name": "python3"
  },
  "language_info": {
   "codemirror_mode": {
    "name": "ipython",
    "version": 3
   },
   "file_extension": ".py",
   "mimetype": "text/x-python",
   "name": "python",
   "nbconvert_exporter": "python",
   "pygments_lexer": "ipython3",
   "version": "3.7.6"
  }
 },
 "nbformat": 4,
 "nbformat_minor": 4
}
