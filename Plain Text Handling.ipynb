{
 "cells": [
  {
   "cell_type": "code",
   "execution_count": 9,
   "metadata": {},
   "outputs": [
    {
     "name": "stdout",
     "output_type": "stream",
     "text": [
      "<_io.TextIOWrapper name='testfile.txt' mode='w' encoding='cp1252'>\n"
     ]
    }
   ],
   "source": [
    "# w - write\n",
    "\n",
    "# r - read\n",
    "\n",
    "# a - append \n",
    "\n",
    "# r+ - read + write mode\n",
    "\n",
    "f = open('testfile.txt' , 'w')\n",
    "print(f)"
   ]
  },
  {
   "cell_type": "code",
   "execution_count": 10,
   "metadata": {},
   "outputs": [
    {
     "data": {
      "text/plain": [
       "24"
      ]
     },
     "execution_count": 10,
     "metadata": {},
     "output_type": "execute_result"
    }
   ],
   "source": [
    "f.write('This is a test string.\\n')\n",
    "f.write('This is the middle line.\\n')\n",
    "f.write('This is the last line. \\n')\n"
   ]
  },
  {
   "cell_type": "code",
   "execution_count": 11,
   "metadata": {},
   "outputs": [],
   "source": [
    "f.close()"
   ]
  },
  {
   "cell_type": "code",
   "execution_count": 12,
   "metadata": {},
   "outputs": [
    {
     "name": "stdout",
     "output_type": "stream",
     "text": [
      "<_io.TextIOWrapper name='testfile.txt' mode='a' encoding='cp1252'>\n"
     ]
    }
   ],
   "source": [
    "f = open('testfile.txt' , 'a')\n",
    "f.write('This is the appended line. \\n')\n",
    "print(f)\n",
    "\n",
    "f.close()"
   ]
  },
  {
   "cell_type": "code",
   "execution_count": 13,
   "metadata": {},
   "outputs": [
    {
     "name": "stdout",
     "output_type": "stream",
     "text": [
      "This is a test string.\n",
      "This is the middle line.\n",
      "This is the last line. \n",
      "This is the appended line. \n",
      "\n"
     ]
    }
   ],
   "source": [
    "f = open('testfile.txt' , 'r')\n",
    "print(f.read())\n",
    "\n",
    "f.close()"
   ]
  },
  {
   "cell_type": "code",
   "execution_count": 14,
   "metadata": {},
   "outputs": [
    {
     "name": "stdout",
     "output_type": "stream",
     "text": [
      "['This is a test string.\\n', 'This is the middle line.\\n', 'This is the last line. \\n', 'This is the appended line. \\n']\n"
     ]
    }
   ],
   "source": [
    "f = open('testfile.txt' , 'r')\n",
    "print(f.readlines())\n",
    "\n",
    "f.close()"
   ]
  },
  {
   "cell_type": "code",
   "execution_count": 15,
   "metadata": {},
   "outputs": [
    {
     "name": "stdout",
     "output_type": "stream",
     "text": [
      "This is a test string.\n",
      "\n",
      "This is the middle line.\n",
      "\n",
      "This is the last line. \n",
      "\n",
      "This is the appended line. \n",
      "\n"
     ]
    }
   ],
   "source": [
    "f = open('testfile.txt' , 'r')\n",
    "for line in f:\n",
    "    print(line)\n",
    "\n",
    "f.close()"
   ]
  },
  {
   "cell_type": "code",
   "execution_count": null,
   "metadata": {},
   "outputs": [],
   "source": []
  }
 ],
 "metadata": {
  "kernelspec": {
   "display_name": "Python 3",
   "language": "python",
   "name": "python3"
  },
  "language_info": {
   "codemirror_mode": {
    "name": "ipython",
    "version": 3
   },
   "file_extension": ".py",
   "mimetype": "text/x-python",
   "name": "python",
   "nbconvert_exporter": "python",
   "pygments_lexer": "ipython3",
   "version": "3.7.6"
  }
 },
 "nbformat": 4,
 "nbformat_minor": 4
}
