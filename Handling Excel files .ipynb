{
 "cells": [
  {
   "cell_type": "markdown",
   "metadata": {},
   "source": [
    "# Python and Excel"
   ]
  },
  {
   "cell_type": "code",
   "execution_count": 1,
   "metadata": {},
   "outputs": [],
   "source": [
    "import openpyxl"
   ]
  },
  {
   "cell_type": "code",
   "execution_count": 2,
   "metadata": {},
   "outputs": [
    {
     "name": "stdout",
     "output_type": "stream",
     "text": [
      "<openpyxl.workbook.workbook.Workbook object at 0x00000151212F9488>\n",
      "<class 'openpyxl.workbook.workbook.Workbook'>\n"
     ]
    }
   ],
   "source": [
    "wb = openpyxl.load_workbook('test.xlsx')\n",
    "print(wb)\n",
    "\n",
    "print(type(wb))"
   ]
  },
  {
   "cell_type": "code",
   "execution_count": 3,
   "metadata": {},
   "outputs": [
    {
     "name": "stdout",
     "output_type": "stream",
     "text": [
      "['Sheet1', 'Sheet2', 'Sheet3']\n"
     ]
    }
   ],
   "source": [
    "print(wb.sheetnames)"
   ]
  },
  {
   "cell_type": "code",
   "execution_count": 4,
   "metadata": {},
   "outputs": [
    {
     "name": "stdout",
     "output_type": "stream",
     "text": [
      "<Worksheet \"Sheet1\">\n",
      "<class 'openpyxl.worksheet.worksheet.Worksheet'>\n"
     ]
    }
   ],
   "source": [
    "currSheet = wb['Sheet1']\n",
    "print(currSheet)\n",
    "\n",
    "print(type(currSheet))"
   ]
  },
  {
   "cell_type": "code",
   "execution_count": 8,
   "metadata": {},
   "outputs": [
    {
     "name": "stdout",
     "output_type": "stream",
     "text": [
      "<Worksheet \"Sheet1\">\n",
      "<class 'openpyxl.worksheet.worksheet.Worksheet'>\n",
      "Sheet1\n"
     ]
    }
   ],
   "source": [
    "currSheet = wb[wb.sheetnames[0]]\n",
    "print(currSheet)\n",
    "\n",
    "print(type(currSheet))\n",
    "print(currSheet.title)"
   ]
  },
  {
   "cell_type": "code",
   "execution_count": 9,
   "metadata": {},
   "outputs": [
    {
     "name": "stdout",
     "output_type": "stream",
     "text": [
      "Food Item\n"
     ]
    }
   ],
   "source": [
    "var1 = currSheet['A1']\n",
    "print(var1.value)"
   ]
  },
  {
   "cell_type": "code",
   "execution_count": 10,
   "metadata": {},
   "outputs": [
    {
     "name": "stdout",
     "output_type": "stream",
     "text": [
      "Color\n"
     ]
    }
   ],
   "source": [
    "print(currSheet['B1'].value)"
   ]
  },
  {
   "cell_type": "code",
   "execution_count": 11,
   "metadata": {},
   "outputs": [
    {
     "name": "stdout",
     "output_type": "stream",
     "text": [
      "Yellow\n"
     ]
    }
   ],
   "source": [
    "var2 = currSheet.cell(row= 2 , column = 2)\n",
    "\n",
    "print(var2.value)"
   ]
  },
  {
   "cell_type": "code",
   "execution_count": 12,
   "metadata": {},
   "outputs": [
    {
     "name": "stdout",
     "output_type": "stream",
     "text": [
      "11\n",
      "3\n"
     ]
    }
   ],
   "source": [
    "print(currSheet.max_row)\n",
    "print(currSheet.max_column)"
   ]
  },
  {
   "cell_type": "code",
   "execution_count": 13,
   "metadata": {},
   "outputs": [
    {
     "name": "stdout",
     "output_type": "stream",
     "text": [
      "---Beginning of Row---\n",
      "Food Item\n",
      "Color\n",
      "Weight\n",
      "-----End of Row------\n",
      "---Beginning of Row---\n",
      "Banana\n",
      "Yellow\n",
      "250\n",
      "-----End of Row------\n",
      "---Beginning of Row---\n",
      "Orange\n",
      "Orange\n",
      "200\n",
      "-----End of Row------\n",
      "---Beginning of Row---\n",
      "Grapes\n",
      "Green\n",
      "400\n",
      "-----End of Row------\n",
      "---Beginning of Row---\n",
      "Tomoto\n",
      "Red\n",
      "100\n",
      "-----End of Row------\n",
      "---Beginning of Row---\n",
      "Spinach\n",
      "Green\n",
      "40\n",
      "-----End of Row------\n",
      "---Beginning of Row---\n",
      "Potatoes\n",
      "Grey\n",
      "400\n",
      "-----End of Row------\n",
      "---Beginning of Row---\n",
      "Rice\n",
      "White\n",
      "300\n",
      "-----End of Row------\n",
      "---Beginning of Row---\n",
      "Rice\n",
      "Brown\n",
      "400\n",
      "-----End of Row------\n",
      "---Beginning of Row---\n",
      "Wheat\n",
      "Brown\n",
      "500\n",
      "-----End of Row------\n",
      "---Beginning of Row---\n",
      "Barley\n",
      "Yellow\n",
      "500\n",
      "-----End of Row------\n"
     ]
    }
   ],
   "source": [
    "for i in range(currSheet.max_row):\n",
    "    print('---Beginning of Row---')\n",
    "    for j in range (currSheet.max_column):\n",
    "        var = currSheet.cell(row = i+1 , column= j+1)\n",
    "        print(var.value)\n",
    "    print('-----End of Row------')"
   ]
  },
  {
   "cell_type": "code",
   "execution_count": null,
   "metadata": {},
   "outputs": [],
   "source": []
  }
 ],
 "metadata": {
  "kernelspec": {
   "display_name": "Python 3",
   "language": "python",
   "name": "python3"
  },
  "language_info": {
   "codemirror_mode": {
    "name": "ipython",
    "version": 3
   },
   "file_extension": ".py",
   "mimetype": "text/x-python",
   "name": "python",
   "nbconvert_exporter": "python",
   "pygments_lexer": "ipython3",
   "version": "3.7.6"
  }
 },
 "nbformat": 4,
 "nbformat_minor": 4
}
