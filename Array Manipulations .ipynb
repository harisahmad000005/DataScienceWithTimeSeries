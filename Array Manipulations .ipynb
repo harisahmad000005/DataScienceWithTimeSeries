{
 "cells": [
  {
   "cell_type": "markdown",
   "metadata": {},
   "source": [
    "# Array Manipulations\n"
   ]
  },
  {
   "cell_type": "code",
   "execution_count": 2,
   "metadata": {},
   "outputs": [],
   "source": [
    "import numpy as np"
   ]
  },
  {
   "cell_type": "code",
   "execution_count": 4,
   "metadata": {},
   "outputs": [
    {
     "name": "stdout",
     "output_type": "stream",
     "text": [
      "[0 1 2 3 4 5]\n"
     ]
    }
   ],
   "source": [
    "x = np.arange(6)\n",
    "\n",
    "print(x)"
   ]
  },
  {
   "cell_type": "code",
   "execution_count": 6,
   "metadata": {},
   "outputs": [
    {
     "name": "stdout",
     "output_type": "stream",
     "text": [
      "[[0 1 2]\n",
      " [3 4 5]]\n"
     ]
    }
   ],
   "source": [
    "y = x.reshape((2,3))\n",
    "print(y)"
   ]
  },
  {
   "cell_type": "code",
   "execution_count": 10,
   "metadata": {},
   "outputs": [
    {
     "name": "stdout",
     "output_type": "stream",
     "text": [
      "[[0 1 2]\n",
      " [3 4 5]]\n"
     ]
    }
   ],
   "source": [
    "x = np.array([[0,1,2],[3,4,5]], dtype= np.uint8)\n",
    "\n",
    "print(x)"
   ]
  },
  {
   "cell_type": "code",
   "execution_count": 11,
   "metadata": {},
   "outputs": [
    {
     "name": "stdout",
     "output_type": "stream",
     "text": [
      "[0 1 2 3 4 5]\n"
     ]
    }
   ],
   "source": [
    "y = np.reshape(x,6)\n",
    "\n",
    "print(y)"
   ]
  },
  {
   "cell_type": "code",
   "execution_count": 13,
   "metadata": {},
   "outputs": [
    {
     "data": {
      "text/plain": [
       "array([0, 1, 2, 3, 4, 5], dtype=uint8)"
      ]
     },
     "execution_count": 13,
     "metadata": {},
     "output_type": "execute_result"
    }
   ],
   "source": [
    "y = np.ravel(x)\n",
    "y"
   ]
  },
  {
   "cell_type": "code",
   "execution_count": 16,
   "metadata": {},
   "outputs": [
    {
     "name": "stdout",
     "output_type": "stream",
     "text": [
      "[0 1 2 3 4 5]\n"
     ]
    }
   ],
   "source": [
    "y = x.flatten()\n",
    "\n",
    "print(y)"
   ]
  },
  {
   "cell_type": "code",
   "execution_count": 17,
   "metadata": {},
   "outputs": [
    {
     "name": "stdout",
     "output_type": "stream",
     "text": [
      "[0 1 2 3 4 5]\n"
     ]
    }
   ],
   "source": [
    "y = x.flatten('C')\n",
    "\n",
    "print(y)"
   ]
  },
  {
   "cell_type": "code",
   "execution_count": 18,
   "metadata": {},
   "outputs": [
    {
     "name": "stdout",
     "output_type": "stream",
     "text": [
      "[0 3 1 4 2 5]\n"
     ]
    }
   ],
   "source": [
    "y = x.flatten('F')\n",
    "\n",
    "print(y)"
   ]
  },
  {
   "cell_type": "markdown",
   "metadata": {},
   "source": [
    "### Join multiple Arrays"
   ]
  },
  {
   "cell_type": "code",
   "execution_count": 23,
   "metadata": {},
   "outputs": [
    {
     "name": "stdout",
     "output_type": "stream",
     "text": [
      "uint8\n",
      "[1 2 3]\n",
      "[4 5 6]\n"
     ]
    }
   ],
   "source": [
    "x = np.array([1,2,3], dtype= np.uint8)\n",
    "y = np.array([4,5,6],dtype= np.uint8)\n",
    "\n",
    "print(x.dtype)\n",
    "\n",
    "print(x)\n",
    "print(y)"
   ]
  },
  {
   "cell_type": "code",
   "execution_count": 25,
   "metadata": {},
   "outputs": [
    {
     "name": "stdout",
     "output_type": "stream",
     "text": [
      "[[1 2 3]\n",
      " [4 5 6]]\n"
     ]
    }
   ],
   "source": [
    "z= np.stack((x,y))\n",
    "print(z)"
   ]
  },
  {
   "cell_type": "code",
   "execution_count": 26,
   "metadata": {},
   "outputs": [
    {
     "name": "stdout",
     "output_type": "stream",
     "text": [
      "[[1 2 3]\n",
      " [4 5 6]]\n"
     ]
    }
   ],
   "source": [
    "z= np.stack((x,y), axis= 0)\n",
    "print(z)"
   ]
  },
  {
   "cell_type": "code",
   "execution_count": 27,
   "metadata": {},
   "outputs": [
    {
     "name": "stdout",
     "output_type": "stream",
     "text": [
      "[[1 4]\n",
      " [2 5]\n",
      " [3 6]]\n"
     ]
    }
   ],
   "source": [
    "z= np.stack((x,y), axis= -1)\n",
    "print(z)"
   ]
  },
  {
   "cell_type": "code",
   "execution_count": 28,
   "metadata": {},
   "outputs": [
    {
     "name": "stdout",
     "output_type": "stream",
     "text": [
      "[1 2 3]\n",
      "[4 5 6]\n"
     ]
    }
   ],
   "source": [
    "print(x)\n",
    "print(y)"
   ]
  },
  {
   "cell_type": "code",
   "execution_count": 30,
   "metadata": {},
   "outputs": [
    {
     "name": "stdout",
     "output_type": "stream",
     "text": [
      "[[[1 4]\n",
      "  [2 5]\n",
      "  [3 6]]]\n"
     ]
    }
   ],
   "source": [
    "z= np.dstack((x,y))\n",
    "print(z)"
   ]
  },
  {
   "cell_type": "code",
   "execution_count": 31,
   "metadata": {},
   "outputs": [
    {
     "name": "stdout",
     "output_type": "stream",
     "text": [
      "(1, 3, 2)\n"
     ]
    }
   ],
   "source": [
    "print(z.shape)"
   ]
  },
  {
   "cell_type": "code",
   "execution_count": 32,
   "metadata": {},
   "outputs": [
    {
     "name": "stdout",
     "output_type": "stream",
     "text": [
      "[1 2 3 4 5 6]\n"
     ]
    }
   ],
   "source": [
    "#horizontal Stack\n",
    "z= np.hstack((x,y))\n",
    "print(z)"
   ]
  },
  {
   "cell_type": "code",
   "execution_count": 33,
   "metadata": {},
   "outputs": [
    {
     "name": "stdout",
     "output_type": "stream",
     "text": [
      "[[1 2 3]\n",
      " [4 5 6]]\n"
     ]
    }
   ],
   "source": [
    "#Vertical Stack\n",
    "z= np.vstack((x,y))\n",
    "print(z)"
   ]
  },
  {
   "cell_type": "code",
   "execution_count": 34,
   "metadata": {},
   "outputs": [
    {
     "data": {
      "text/plain": [
       "(2, 3)"
      ]
     },
     "execution_count": 34,
     "metadata": {},
     "output_type": "execute_result"
    }
   ],
   "source": [
    "z.shape"
   ]
  },
  {
   "cell_type": "code",
   "execution_count": 35,
   "metadata": {},
   "outputs": [
    {
     "name": "stdout",
     "output_type": "stream",
     "text": [
      "[0 1 2 3 4 5 6 7 8]\n"
     ]
    }
   ],
   "source": [
    "x = np.arange(9)\n",
    "\n",
    "print(x)"
   ]
  },
  {
   "cell_type": "code",
   "execution_count": 37,
   "metadata": {},
   "outputs": [
    {
     "name": "stdout",
     "output_type": "stream",
     "text": [
      "[0 1 2] [3 4 5] [6 7 8]\n"
     ]
    }
   ],
   "source": [
    "a,b,c = np.split(x,3)\n",
    "\n",
    "print(a,b,c)"
   ]
  },
  {
   "cell_type": "code",
   "execution_count": 42,
   "metadata": {},
   "outputs": [
    {
     "name": "stdout",
     "output_type": "stream",
     "text": [
      "[[[0.48628834 0.38159125 0.41147731 0.7889973 ]\n",
      "  [0.58060307 0.90633044 0.06564746 0.13131704]\n",
      "  [0.08162168 0.63011559 0.21658706 0.63759212]\n",
      "  [0.72635067 0.46612148 0.717482   0.10866135]]\n",
      "\n",
      " [[0.95914689 0.87661038 0.90885474 0.86112315]\n",
      "  [0.80507987 0.3395552  0.97881883 0.39297374]\n",
      "  [0.74593277 0.52416369 0.43137201 0.10819255]\n",
      "  [0.47606649 0.25061941 0.4646     0.64190086]]\n",
      "\n",
      " [[0.44086723 0.4608477  0.13951619 0.901479  ]\n",
      "  [0.95918629 0.25816426 0.75777344 0.49037544]\n",
      "  [0.04364212 0.41433544 0.62289356 0.2310975 ]\n",
      "  [0.5900699  0.22948667 0.9036638  0.2781361 ]]\n",
      "\n",
      " [[0.57746469 0.55338144 0.12661939 0.75499267]\n",
      "  [0.11087236 0.70688794 0.18812292 0.30067635]\n",
      "  [0.57754816 0.63458033 0.59093843 0.94911369]\n",
      "  [0.41468257 0.03230464 0.05278948 0.38968047]]]\n"
     ]
    }
   ],
   "source": [
    "x = np.random.rand(4,4,4)\n",
    "\n",
    "print(x)"
   ]
  },
  {
   "cell_type": "code",
   "execution_count": 46,
   "metadata": {},
   "outputs": [
    {
     "name": "stdout",
     "output_type": "stream",
     "text": [
      "[[[0.48628834 0.38159125 0.41147731 0.7889973 ]\n",
      "  [0.58060307 0.90633044 0.06564746 0.13131704]\n",
      "  [0.08162168 0.63011559 0.21658706 0.63759212]\n",
      "  [0.72635067 0.46612148 0.717482   0.10866135]]\n",
      "\n",
      " [[0.95914689 0.87661038 0.90885474 0.86112315]\n",
      "  [0.80507987 0.3395552  0.97881883 0.39297374]\n",
      "  [0.74593277 0.52416369 0.43137201 0.10819255]\n",
      "  [0.47606649 0.25061941 0.4646     0.64190086]]] [[[0.44086723 0.4608477  0.13951619 0.901479  ]\n",
      "  [0.95918629 0.25816426 0.75777344 0.49037544]\n",
      "  [0.04364212 0.41433544 0.62289356 0.2310975 ]\n",
      "  [0.5900699  0.22948667 0.9036638  0.2781361 ]]\n",
      "\n",
      " [[0.57746469 0.55338144 0.12661939 0.75499267]\n",
      "  [0.11087236 0.70688794 0.18812292 0.30067635]\n",
      "  [0.57754816 0.63458033 0.59093843 0.94911369]\n",
      "  [0.41468257 0.03230464 0.05278948 0.38968047]]]\n"
     ]
    }
   ],
   "source": [
    "#Split it in 2 matrices\n",
    "y,z = np.split(x, 2)\n",
    "print(y,z)"
   ]
  },
  {
   "cell_type": "code",
   "execution_count": 47,
   "metadata": {},
   "outputs": [
    {
     "name": "stdout",
     "output_type": "stream",
     "text": [
      "[[[0.48628834 0.38159125]\n",
      "  [0.58060307 0.90633044]\n",
      "  [0.08162168 0.63011559]\n",
      "  [0.72635067 0.46612148]]\n",
      "\n",
      " [[0.95914689 0.87661038]\n",
      "  [0.80507987 0.3395552 ]\n",
      "  [0.74593277 0.52416369]\n",
      "  [0.47606649 0.25061941]]\n",
      "\n",
      " [[0.44086723 0.4608477 ]\n",
      "  [0.95918629 0.25816426]\n",
      "  [0.04364212 0.41433544]\n",
      "  [0.5900699  0.22948667]]\n",
      "\n",
      " [[0.57746469 0.55338144]\n",
      "  [0.11087236 0.70688794]\n",
      "  [0.57754816 0.63458033]\n",
      "  [0.41468257 0.03230464]]] [[[0.41147731 0.7889973 ]\n",
      "  [0.06564746 0.13131704]\n",
      "  [0.21658706 0.63759212]\n",
      "  [0.717482   0.10866135]]\n",
      "\n",
      " [[0.90885474 0.86112315]\n",
      "  [0.97881883 0.39297374]\n",
      "  [0.43137201 0.10819255]\n",
      "  [0.4646     0.64190086]]\n",
      "\n",
      " [[0.13951619 0.901479  ]\n",
      "  [0.75777344 0.49037544]\n",
      "  [0.62289356 0.2310975 ]\n",
      "  [0.9036638  0.2781361 ]]\n",
      "\n",
      " [[0.12661939 0.75499267]\n",
      "  [0.18812292 0.30067635]\n",
      "  [0.59093843 0.94911369]\n",
      "  [0.05278948 0.38968047]]]\n"
     ]
    }
   ],
   "source": [
    "y,z = np.dsplit(x, 2)\n",
    "print(y,z)"
   ]
  },
  {
   "cell_type": "code",
   "execution_count": 48,
   "metadata": {},
   "outputs": [
    {
     "name": "stdout",
     "output_type": "stream",
     "text": [
      "[[[0.48628834 0.38159125 0.41147731 0.7889973 ]\n",
      "  [0.58060307 0.90633044 0.06564746 0.13131704]]\n",
      "\n",
      " [[0.95914689 0.87661038 0.90885474 0.86112315]\n",
      "  [0.80507987 0.3395552  0.97881883 0.39297374]]\n",
      "\n",
      " [[0.44086723 0.4608477  0.13951619 0.901479  ]\n",
      "  [0.95918629 0.25816426 0.75777344 0.49037544]]\n",
      "\n",
      " [[0.57746469 0.55338144 0.12661939 0.75499267]\n",
      "  [0.11087236 0.70688794 0.18812292 0.30067635]]] [[[0.08162168 0.63011559 0.21658706 0.63759212]\n",
      "  [0.72635067 0.46612148 0.717482   0.10866135]]\n",
      "\n",
      " [[0.74593277 0.52416369 0.43137201 0.10819255]\n",
      "  [0.47606649 0.25061941 0.4646     0.64190086]]\n",
      "\n",
      " [[0.04364212 0.41433544 0.62289356 0.2310975 ]\n",
      "  [0.5900699  0.22948667 0.9036638  0.2781361 ]]\n",
      "\n",
      " [[0.57754816 0.63458033 0.59093843 0.94911369]\n",
      "  [0.41468257 0.03230464 0.05278948 0.38968047]]]\n"
     ]
    }
   ],
   "source": [
    "y,z = np.hsplit(x, 2)\n",
    "print(y,z)"
   ]
  },
  {
   "cell_type": "code",
   "execution_count": 49,
   "metadata": {},
   "outputs": [
    {
     "name": "stdout",
     "output_type": "stream",
     "text": [
      "[[[0.48628834 0.38159125 0.41147731 0.7889973 ]\n",
      "  [0.58060307 0.90633044 0.06564746 0.13131704]\n",
      "  [0.08162168 0.63011559 0.21658706 0.63759212]\n",
      "  [0.72635067 0.46612148 0.717482   0.10866135]]\n",
      "\n",
      " [[0.95914689 0.87661038 0.90885474 0.86112315]\n",
      "  [0.80507987 0.3395552  0.97881883 0.39297374]\n",
      "  [0.74593277 0.52416369 0.43137201 0.10819255]\n",
      "  [0.47606649 0.25061941 0.4646     0.64190086]]] [[[0.44086723 0.4608477  0.13951619 0.901479  ]\n",
      "  [0.95918629 0.25816426 0.75777344 0.49037544]\n",
      "  [0.04364212 0.41433544 0.62289356 0.2310975 ]\n",
      "  [0.5900699  0.22948667 0.9036638  0.2781361 ]]\n",
      "\n",
      " [[0.57746469 0.55338144 0.12661939 0.75499267]\n",
      "  [0.11087236 0.70688794 0.18812292 0.30067635]\n",
      "  [0.57754816 0.63458033 0.59093843 0.94911369]\n",
      "  [0.41468257 0.03230464 0.05278948 0.38968047]]]\n"
     ]
    }
   ],
   "source": [
    "y,z = np.vsplit(x, 2)\n",
    "print(y,z)"
   ]
  },
  {
   "cell_type": "code",
   "execution_count": 51,
   "metadata": {},
   "outputs": [
    {
     "data": {
      "text/plain": [
       "array([[ 0,  1,  2,  3],\n",
       "       [ 4,  5,  6,  7],\n",
       "       [ 8,  9, 10, 11],\n",
       "       [12, 13, 14, 15]])"
      ]
     },
     "execution_count": 51,
     "metadata": {},
     "output_type": "execute_result"
    }
   ],
   "source": [
    "x =np.arange(16).reshape(4,4)\n",
    "x"
   ]
  },
  {
   "cell_type": "code",
   "execution_count": 53,
   "metadata": {},
   "outputs": [
    {
     "data": {
      "text/plain": [
       "array([[ 3,  2,  1,  0],\n",
       "       [ 7,  6,  5,  4],\n",
       "       [11, 10,  9,  8],\n",
       "       [15, 14, 13, 12]])"
      ]
     },
     "execution_count": 53,
     "metadata": {},
     "output_type": "execute_result"
    }
   ],
   "source": [
    "y= np.flip(x, axis= -1)\n",
    "y"
   ]
  },
  {
   "cell_type": "code",
   "execution_count": 54,
   "metadata": {},
   "outputs": [
    {
     "data": {
      "text/plain": [
       "array([[12, 13, 14, 15],\n",
       "       [ 8,  9, 10, 11],\n",
       "       [ 4,  5,  6,  7],\n",
       "       [ 0,  1,  2,  3]])"
      ]
     },
     "execution_count": 54,
     "metadata": {},
     "output_type": "execute_result"
    }
   ],
   "source": [
    "y= np.flip(x, axis= 0)\n",
    "y"
   ]
  },
  {
   "cell_type": "code",
   "execution_count": 55,
   "metadata": {},
   "outputs": [
    {
     "data": {
      "text/plain": [
       "array([[ 3,  2,  1,  0],\n",
       "       [ 7,  6,  5,  4],\n",
       "       [11, 10,  9,  8],\n",
       "       [15, 14, 13, 12]])"
      ]
     },
     "execution_count": 55,
     "metadata": {},
     "output_type": "execute_result"
    }
   ],
   "source": [
    "#fliping left to right\n",
    "\n",
    "y= np.fliplr(x)\n",
    "y"
   ]
  },
  {
   "cell_type": "code",
   "execution_count": 58,
   "metadata": {},
   "outputs": [
    {
     "data": {
      "text/plain": [
       "array([[12, 13, 14, 15],\n",
       "       [ 8,  9, 10, 11],\n",
       "       [ 4,  5,  6,  7],\n",
       "       [ 0,  1,  2,  3]])"
      ]
     },
     "execution_count": 58,
     "metadata": {},
     "output_type": "execute_result"
    }
   ],
   "source": [
    "#flip up down\n",
    "y= np.flipud(x)\n",
    "y"
   ]
  },
  {
   "cell_type": "code",
   "execution_count": 60,
   "metadata": {},
   "outputs": [
    {
     "data": {
      "text/plain": [
       "array([[ 8,  9, 10, 11],\n",
       "       [12, 13, 14, 15],\n",
       "       [ 0,  1,  2,  3],\n",
       "       [ 4,  5,  6,  7]])"
      ]
     },
     "execution_count": 60,
     "metadata": {},
     "output_type": "execute_result"
    }
   ],
   "source": [
    "y = np.roll(x,8)\n",
    "\n",
    "y"
   ]
  },
  {
   "cell_type": "code",
   "execution_count": 63,
   "metadata": {},
   "outputs": [
    {
     "data": {
      "text/plain": [
       "(array([[ 3,  7, 11, 15],\n",
       "        [ 2,  6, 10, 14],\n",
       "        [ 1,  5,  9, 13],\n",
       "        [ 0,  4,  8, 12]]),\n",
       " array([[ 0,  1,  2,  3],\n",
       "        [ 4,  5,  6,  7],\n",
       "        [ 8,  9, 10, 11],\n",
       "        [12, 13, 14, 15]]))"
      ]
     },
     "execution_count": 63,
     "metadata": {},
     "output_type": "execute_result"
    }
   ],
   "source": [
    "y = np.rot90(x)\n",
    "\n",
    "y, x"
   ]
  },
  {
   "cell_type": "code",
   "execution_count": null,
   "metadata": {},
   "outputs": [],
   "source": []
  }
 ],
 "metadata": {
  "kernelspec": {
   "display_name": "Python 3",
   "language": "python",
   "name": "python3"
  },
  "language_info": {
   "codemirror_mode": {
    "name": "ipython",
    "version": 3
   },
   "file_extension": ".py",
   "mimetype": "text/x-python",
   "name": "python",
   "nbconvert_exporter": "python",
   "pygments_lexer": "ipython3",
   "version": "3.7.6"
  }
 },
 "nbformat": 4,
 "nbformat_minor": 4
}
