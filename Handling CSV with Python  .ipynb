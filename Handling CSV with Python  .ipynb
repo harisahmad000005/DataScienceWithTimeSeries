{
 "cells": [
  {
   "cell_type": "code",
   "execution_count": 1,
   "metadata": {},
   "outputs": [
    {
     "name": "stdout",
     "output_type": "stream",
     "text": [
      "<_io.TextIOWrapper name='test.csv' mode='r' encoding='cp1252'>\n"
     ]
    }
   ],
   "source": [
    "import csv \n",
    "\n",
    "file = open('test.csv', 'r')\n",
    "\n",
    "print (file)"
   ]
  },
  {
   "cell_type": "code",
   "execution_count": 3,
   "metadata": {},
   "outputs": [
    {
     "name": "stdout",
     "output_type": "stream",
     "text": [
      "<_csv.reader object at 0x0000017C05FCF7B8>\n"
     ]
    }
   ],
   "source": [
    "csvfile = csv.reader(file, delimiter= ',')\n",
    "print(csvfile)"
   ]
  },
  {
   "cell_type": "code",
   "execution_count": 5,
   "metadata": {},
   "outputs": [
    {
     "name": "stdout",
     "output_type": "stream",
     "text": [
      "['Banana', 'Yellow', '250']\n",
      "['Orange', 'Orange', '200']\n",
      "['Grapes', 'Green', '400']\n",
      "['Tomoto', 'Red', '100']\n",
      "['Spinach', 'Greem', '40']\n",
      "['Potatoes', 'Grey', '400']\n",
      "['Rice', 'White', '300']\n",
      "['Rice', 'Brown', '400']\n",
      "['Wheat', 'Brown', '500']\n",
      "['Barley', 'Yellow', '500']\n"
     ]
    }
   ],
   "source": [
    "for row in csvfile:\n",
    "    \n",
    "    print(row)"
   ]
  },
  {
   "cell_type": "code",
   "execution_count": 6,
   "metadata": {},
   "outputs": [],
   "source": [
    "file.close()"
   ]
  },
  {
   "cell_type": "code",
   "execution_count": 11,
   "metadata": {},
   "outputs": [
    {
     "name": "stdout",
     "output_type": "stream",
     "text": [
      "<_io.TextIOWrapper name='test.csv' mode='r' encoding='cp1252'>\n",
      "<_csv.reader object at 0x0000017C05FCF898>\n"
     ]
    }
   ],
   "source": [
    "file = open('test.csv', 'r')\n",
    "\n",
    "print (file)\n",
    "\n",
    "csvfile = csv.reader(file, delimiter= ',')\n",
    "\n",
    "print(csvfile)"
   ]
  },
  {
   "cell_type": "code",
   "execution_count": 12,
   "metadata": {},
   "outputs": [
    {
     "name": "stdout",
     "output_type": "stream",
     "text": [
      "Banana\n",
      "Yellow\n",
      "250\n",
      "Orange\n",
      "Orange\n",
      "200\n",
      "Grapes\n",
      "Green\n",
      "400\n",
      "Tomoto\n",
      "Red\n",
      "100\n",
      "Spinach\n",
      "Greem\n",
      "40\n",
      "Potatoes\n",
      "Grey\n",
      "400\n",
      "Rice\n",
      "White\n",
      "300\n",
      "Rice\n",
      "Brown\n",
      "400\n",
      "Wheat\n",
      "Brown\n",
      "500\n",
      "Barley\n",
      "Yellow\n",
      "500\n"
     ]
    }
   ],
   "source": [
    "for row in csvfile:\n",
    "    for element in row:\n",
    "        print(element)"
   ]
  },
  {
   "cell_type": "code",
   "execution_count": 13,
   "metadata": {},
   "outputs": [],
   "source": [
    "file.close()"
   ]
  },
  {
   "cell_type": "code",
   "execution_count": null,
   "metadata": {},
   "outputs": [],
   "source": []
  }
 ],
 "metadata": {
  "kernelspec": {
   "display_name": "Python 3",
   "language": "python",
   "name": "python3"
  },
  "language_info": {
   "codemirror_mode": {
    "name": "ipython",
    "version": 3
   },
   "file_extension": ".py",
   "mimetype": "text/x-python",
   "name": "python",
   "nbconvert_exporter": "python",
   "pygments_lexer": "ipython3",
   "version": "3.7.6"
  }
 },
 "nbformat": 4,
 "nbformat_minor": 4
}
