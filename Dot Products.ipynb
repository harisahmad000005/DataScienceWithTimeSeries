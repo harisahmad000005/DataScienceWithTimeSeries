{
 "cells": [
  {
   "cell_type": "code",
   "execution_count": 1,
   "metadata": {},
   "outputs": [],
   "source": [
    "#Dot Product\n",
    "import numpy as np \n"
   ]
  },
  {
   "cell_type": "code",
   "execution_count": 3,
   "metadata": {},
   "outputs": [
    {
     "name": "stdout",
     "output_type": "stream",
     "text": [
      "50\n"
     ]
    }
   ],
   "source": [
    "print(np.dot(10,5))"
   ]
  },
  {
   "cell_type": "code",
   "execution_count": 5,
   "metadata": {},
   "outputs": [
    {
     "name": "stdout",
     "output_type": "stream",
     "text": [
      "34\n"
     ]
    }
   ],
   "source": [
    "a = np.array ([2,4], np.uint8)\n",
    "b = np.array ([5,6], np.uint8)\n",
    "\n",
    "print(np.dot(a,b))"
   ]
  },
  {
   "cell_type": "code",
   "execution_count": 11,
   "metadata": {},
   "outputs": [
    {
     "name": "stdout",
     "output_type": "stream",
     "text": [
      "[[46 24]\n",
      " [97 54]]\n"
     ]
    }
   ],
   "source": [
    "a = np.array ([[2,4], [5,8]], np.uint8)\n",
    "b = np.array ([[5,6], [9,3]], np.uint8)\n",
    "\n",
    "print(np.dot(a,b))"
   ]
  },
  {
   "cell_type": "code",
   "execution_count": 17,
   "metadata": {},
   "outputs": [],
   "source": [
    "a = np.random.rand(10,5)\n",
    "b = np.random.rand(5,2)\n",
    "c = np.random.rand(2,3)\n",
    "d = np.random.rand(3,4)\n"
   ]
  },
  {
   "cell_type": "code",
   "execution_count": 19,
   "metadata": {},
   "outputs": [
    {
     "name": "stdout",
     "output_type": "stream",
     "text": [
      "[[1.90111234 1.18798    1.6524892  3.87646503]\n",
      " [1.24634481 0.79079683 1.07935935 2.53218615]\n",
      " [1.43008402 0.90377662 1.23968178 2.90824702]\n",
      " [1.4845691  0.95730549 1.28054662 3.00441589]\n",
      " [1.57553676 0.99520501 1.36593355 3.20442115]\n",
      " [2.22188232 1.4161633  1.92206227 4.50927541]\n",
      " [2.35208581 1.509973   2.03108841 4.76522861]\n",
      " [1.48729811 0.94190129 1.28862265 3.02309153]\n",
      " [2.70499609 1.7293135  2.3382421  5.48574139]\n",
      " [1.68891675 1.05828752 1.46707535 3.44156071]]\n"
     ]
    }
   ],
   "source": [
    "e = np.linalg.multi_dot([a, b ,c, d])\n",
    "print(e)"
   ]
  },
  {
   "cell_type": "markdown",
   "metadata": {},
   "source": [
    "# Vector Dot Product"
   ]
  },
  {
   "cell_type": "code",
   "execution_count": 20,
   "metadata": {},
   "outputs": [
    {
     "name": "stdout",
     "output_type": "stream",
     "text": [
      "11\n"
     ]
    }
   ],
   "source": [
    "a = np.array([1,2])\n",
    "b = np.array([3,4])\n",
    "\n",
    "print(np.vdot(a,b))"
   ]
  },
  {
   "cell_type": "code",
   "execution_count": null,
   "metadata": {},
   "outputs": [],
   "source": [
    "a = np.array([1+5j,2 + 3j])\n",
    "b = np.array([3+2j , 4+ 7j])\n",
    "\n",
    "print(np.vdot(a,b))"
   ]
  },
  {
   "cell_type": "markdown",
   "metadata": {},
   "source": [
    "## Inner Product"
   ]
  },
  {
   "cell_type": "code",
   "execution_count": 22,
   "metadata": {},
   "outputs": [
    {
     "name": "stdout",
     "output_type": "stream",
     "text": [
      "12\n"
     ]
    }
   ],
   "source": [
    "a = np.array([1,2,3,4,5,6])\n",
    "b = np.array([0,1,0,1,0,1])\n",
    "\n",
    "print(np.inner(a,b))"
   ]
  },
  {
   "cell_type": "code",
   "execution_count": 23,
   "metadata": {},
   "outputs": [
    {
     "name": "stdout",
     "output_type": "stream",
     "text": [
      "[[ 2  4]\n",
      " [ 5 10]]\n"
     ]
    }
   ],
   "source": [
    "\n",
    "a = np.array([[1,2,3],[4,5,6]])\n",
    "b = np.array([[0,1,0],[1,0,1]])\n",
    "\n",
    "print(np.inner(a,b))"
   ]
  },
  {
   "cell_type": "markdown",
   "metadata": {},
   "source": [
    "# QR Decomposition"
   ]
  },
  {
   "cell_type": "code",
   "execution_count": 24,
   "metadata": {},
   "outputs": [
    {
     "name": "stdout",
     "output_type": "stream",
     "text": [
      "[[0.59859588 0.82927851 0.65353509]\n",
      " [0.00401448 0.5126824  0.87283359]\n",
      " [0.12826879 0.98917652 0.70168159]]\n"
     ]
    }
   ],
   "source": [
    "a = np.random. rand(3,3)\n",
    "\n",
    "print(a)"
   ]
  },
  {
   "cell_type": "code",
   "execution_count": 25,
   "metadata": {},
   "outputs": [
    {
     "name": "stdout",
     "output_type": "stream",
     "text": [
      "q= [[-0.97778198  0.18010957 -0.1072518 ]\n",
      " [-0.00655749 -0.53766792 -0.84313119]\n",
      " [-0.20952185 -0.82369518  0.52690307]] \n",
      "\n",
      "r =  [[-0.6121977  -1.02146959 -0.79175606]\n",
      " [ 0.         -0.94107181 -0.92955844]\n",
      " [ 0.          0.         -0.43628787]] \n",
      "\n",
      "[[0.59859588 0.82927851 0.65353509]\n",
      " [0.00401448 0.5126824  0.87283359]\n",
      " [0.12826879 0.98917652 0.70168159]]\n"
     ]
    }
   ],
   "source": [
    "q, r = np.linalg.qr(a)\n",
    "print('q=',q,'\\n\\nr = ' , r , '\\n')\n",
    "\n",
    "print(np.dot(q,r))"
   ]
  },
  {
   "cell_type": "markdown",
   "metadata": {},
   "source": [
    "# Determinant and Solving Linear Equations"
   ]
  },
  {
   "cell_type": "code",
   "execution_count": 29,
   "metadata": {},
   "outputs": [
    {
     "name": "stdout",
     "output_type": "stream",
     "text": [
      "2.0000000000000004\n"
     ]
    }
   ],
   "source": [
    "a = np.array([[5, 6],[3, 4]])\n",
    "\n",
    "print(np.linalg.det(a))"
   ]
  },
  {
   "cell_type": "code",
   "execution_count": 33,
   "metadata": {},
   "outputs": [
    {
     "name": "stdout",
     "output_type": "stream",
     "text": [
      "[2. 1. 3.]\n"
     ]
    }
   ],
   "source": [
    "a = np.array([[2,1, -3],[4,-2, 1],[3,5, -2]], np.int16)\n",
    "b = np.array([-4,9, 5], np.int16)\n",
    "\n",
    "x = np.linalg.solve(a,b)\n",
    "print(x)"
   ]
  },
  {
   "cell_type": "code",
   "execution_count": null,
   "metadata": {},
   "outputs": [],
   "source": []
  }
 ],
 "metadata": {
  "kernelspec": {
   "display_name": "Python 3",
   "language": "python",
   "name": "python3"
  },
  "language_info": {
   "codemirror_mode": {
    "name": "ipython",
    "version": 3
   },
   "file_extension": ".py",
   "mimetype": "text/x-python",
   "name": "python",
   "nbconvert_exporter": "python",
   "pygments_lexer": "ipython3",
   "version": "3.7.6"
  }
 },
 "nbformat": 4,
 "nbformat_minor": 4
}
